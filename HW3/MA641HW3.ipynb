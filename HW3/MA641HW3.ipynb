{
 "cells": [
  {
   "cell_type": "markdown",
   "id": "405e1135",
   "metadata": {},
   "source": [
    "# MA 641 HW3\n",
    "Aaron Vo  \n",
    "February 17, 2023"
   ]
  },
  {
   "cell_type": "markdown",
   "id": "01e10a03",
   "metadata": {},
   "source": [
    "1. Sketch the autocorrelation functions (ACF) for the following MA(2) models with parameters as specified:\n",
    "\n",
    "   a. θ<sub>1</sub> = 0.5, θ<sub>2</sub> = 0.4  \n",
    "   b. θ<sub>1</sub> = 1.2, θ<sub>2</sub> = −0.7\n",
    "\n",
    "   Hint: You can use either the ACF formula for MA models or a useful R function like ARMAacf (as always first try ? ARMAacf in R and find out the details).\n",
    "\n",
    "    c. Simulate each the models in (a)-(b) with 150 observations, and plot theirs series, and their sample ACF."
   ]
  },
  {
   "cell_type": "markdown",
   "id": "233cddde",
   "metadata": {},
   "source": [
    "#### Part A"
   ]
  },
  {
   "cell_type": "markdown",
   "id": "7f7d6c1d",
   "metadata": {},
   "source": [
    "For θ<sub>1</sub> = 0.5, θ<sub>2</sub> = 0.4\n",
    "\n",
    "![title](HW31a.png)"
   ]
  },
  {
   "cell_type": "markdown",
   "id": "6dad633c",
   "metadata": {},
   "source": [
    "#### Part B"
   ]
  },
  {
   "cell_type": "markdown",
   "id": "50365440",
   "metadata": {},
   "source": [
    "θ<sub>1</sub> = 1.2, θ<sub>2</sub> = −0.7\n",
    "\n",
    "![title](HW31B.png)"
   ]
  },
  {
   "cell_type": "markdown",
   "id": "db4178ec",
   "metadata": {},
   "source": [
    "#### Part C"
   ]
  },
  {
   "cell_type": "markdown",
   "id": "dac68e1b",
   "metadata": {},
   "source": [
    "For θ<sub>1</sub> = 0.5, θ<sub>2</sub> = 0.4\n",
    "![title](HW31CA.png) \n",
    "![title](HW31CACFModel.png)\n",
    "\n",
    "θ<sub>1</sub> = 1.2, θ<sub>2</sub> = -0.7\n",
    "![title](HW31CB.png) \n",
    "![title](HW31CAFCModel2.png) \n"
   ]
  },
  {
   "cell_type": "markdown",
   "id": "f8cdf7d1",
   "metadata": {},
   "source": [
    "3. Use the recursive formula to calculate and then sketch the autocorrelation functions for the following AR(2) models with parameters as specified. In each case specify whether the roots of the characteristic equation are real or complex. If the roots are complex, find the damping factor, R, and frequency,Θ for the corresponding autocorrelation function.\n",
    "\n",
    "   a. φ<sub>1</sub> = 0.6, φ<sub>2</sub> = 0.3  \n",
    "   b. φ<sub>1</sub> = −.4, φ<sub>2</sub> = .5  \n",
    "   c. φ<sub>1</sub> = 1.2, φ<sub>2</sub> = −.7\n",
    "\n",
    "   Hint: You may use polyroot function in R to find roots of a polynomial.\n",
    "   \n",
    "   d. Simulate each the models in (a)-(c) with 150 observations, and plot theirs series, and their sample ACF."
   ]
  },
  {
   "cell_type": "markdown",
   "id": "95212c01",
   "metadata": {},
   "source": [
    "For the roots, check the attached pdf"
   ]
  },
  {
   "cell_type": "markdown",
   "id": "5e536412",
   "metadata": {},
   "source": [
    "For φ<sub>1</sub> = 0.6, φ<sub>2</sub> = 0.3  \n",
    "\n",
    "![title](HW3AR2TimeSeriesA.png)\n",
    "\n",
    "![title](HW3AR2PlotA.png)"
   ]
  },
  {
   "cell_type": "markdown",
   "id": "3226144b",
   "metadata": {},
   "source": [
    "For φ<sub>1</sub> = −.4, φ<sub>2</sub> = .5\n",
    "\n",
    "![title](HW3AR2TimeSeriesB.png)\n",
    "\n",
    "![title](HW3AR2PlotB.png)"
   ]
  },
  {
   "cell_type": "markdown",
   "id": "8c6c5448",
   "metadata": {},
   "source": [
    "For φ<sub>1</sub> = 1.2, φ<sub>2</sub> = −.7\n",
    "\n",
    "![title](HW3AR2TimeSeriesC.png)\n",
    "\n",
    "![title](HW3AR2PlotC.png)"
   ]
  },
  {
   "cell_type": "markdown",
   "id": "2d93932b",
   "metadata": {},
   "source": [
    "4. Sketch the autocorrelation functions for each of the following ARMA models: \n",
    "\n",
    "   a. ARMA(1,1), with φ = .7 and θ = 0.4  \n",
    "   b. ARMA(1,1) with φ = .7 and θ = −0.4\n",
    "\n",
    "   Hint: Like question 1., you can use ARMAacf function. \n",
    "   \n",
    "   c. Simulate each the models in (a)-(b) with 150 observations, and plot theirs series, and their sample ACF."
   ]
  },
  {
   "cell_type": "markdown",
   "id": "6f0e25bd",
   "metadata": {},
   "source": [
    "For ARMA(1,1), with φ = .7 and θ = 0.4 \n",
    "\n",
    "![title](HWARMATimeSeriesA.png)\n",
    "\n",
    "![title](HWARMAACFA.png)"
   ]
  },
  {
   "cell_type": "markdown",
   "id": "f14650fb",
   "metadata": {},
   "source": [
    "For ARMA(1,1) with φ = .7 and θ = −0.4\n",
    "\n",
    "![title](HWARMATimeSeriesB.png)\n",
    "\n",
    "![title](HWARMAACFB.png)"
   ]
  }
 ],
 "metadata": {
  "kernelspec": {
   "display_name": "Python 3 (ipykernel)",
   "language": "python",
   "name": "python3"
  },
  "language_info": {
   "codemirror_mode": {
    "name": "ipython",
    "version": 3
   },
   "file_extension": ".py",
   "mimetype": "text/x-python",
   "name": "python",
   "nbconvert_exporter": "python",
   "pygments_lexer": "ipython3",
   "version": "3.11.1"
  }
 },
 "nbformat": 4,
 "nbformat_minor": 5
}
